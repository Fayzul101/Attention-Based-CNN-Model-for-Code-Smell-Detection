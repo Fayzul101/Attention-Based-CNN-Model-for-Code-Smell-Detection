{
 "cells": [
  {
   "cell_type": "code",
   "execution_count": null,
   "metadata": {},
   "outputs": [],
   "source": [
    "import numpy as np\n",
    "import pandas as pd\n",
    "import matplotlib.pyplot as plt\n",
    "from collections import Counter\n",
    "from sklearn.feature_selection import chi2, SelectKBest, f_classif, mutual_info_classif\n",
    "import seaborn as sns\n",
    "from sklearn.metrics import confusion_matrix, classification_report\n",
    "import seaborn as sns\n",
    "import tensorflow.keras.backend as k\n",
    "from tensorflow.keras import Model, Input, layers\n",
    "import lime\n",
    "from lime import lime_tabular\n",
    "from sklearn.model_selection import train_test_split\n",
    "from sklearn.model_selection import StratifiedKFold\n",
    "from tensorflow.keras.models import Sequential\n",
    "from tensorflow.keras.layers import Conv1D, Dense, Flatten, Dropout"
   ]
  },
  {
   "cell_type": "code",
   "execution_count": null,
   "metadata": {},
   "outputs": [],
   "source": [
    "df_dataClass = pd.read_csv('DataClass.csv')"
   ]
  },
  {
   "cell_type": "code",
   "execution_count": null,
   "metadata": {},
   "outputs": [],
   "source": [
    "df_dataClass.head()"
   ]
  },
  {
   "cell_type": "code",
   "execution_count": null,
   "metadata": {},
   "outputs": [],
   "source": [
    "df_dataClass.shape"
   ]
  },
  {
   "cell_type": "code",
   "execution_count": null,
   "metadata": {},
   "outputs": [],
   "source": [
    "df_dataClass.dtypes"
   ]
  },
  {
   "cell_type": "code",
   "execution_count": null,
   "metadata": {},
   "outputs": [],
   "source": [
    "df_dataClass['numeric_label'], unique_lables = pd.factorize(df_dataClass['is_data_class'])\n",
    "df_dataClass.head()"
   ]
  },
  {
   "cell_type": "code",
   "execution_count": null,
   "metadata": {},
   "outputs": [],
   "source": [
    "df_dataClass = df_dataClass.drop(columns=['is_data_class'])"
   ]
  },
  {
   "cell_type": "code",
   "execution_count": null,
   "metadata": {},
   "outputs": [],
   "source": [
    "df_dataClass.head()"
   ]
  },
  {
   "cell_type": "code",
   "execution_count": null,
   "metadata": {},
   "outputs": [],
   "source": [
    "negative_values = df_dataClass[df_dataClass < 0].any().any()\n",
    "if negative_values:\n",
    "    print(\"Dataset contains negative values!\")\n",
    "else:\n",
    "    print(\"No negative values found.\")"
   ]
  },
  {
   "cell_type": "code",
   "execution_count": null,
   "metadata": {},
   "outputs": [],
   "source": [
    "df_dataClass_cleaned = df_dataClass[(df_dataClass >= 0).all(axis=1)]"
   ]
  },
  {
   "cell_type": "code",
   "execution_count": null,
   "metadata": {},
   "outputs": [],
   "source": [
    "df_dataClass_cleaned.shape"
   ]
  },
  {
   "cell_type": "code",
   "execution_count": null,
   "metadata": {},
   "outputs": [],
   "source": [
    "x = df_dataClass_cleaned.drop(columns=['numeric_label'])\n",
    "y = df_dataClass_cleaned['numeric_label']"
   ]
  },
  {
   "cell_type": "markdown",
   "metadata": {},
   "source": [
    "Model Accuracy Without Feature Selection"
   ]
  },
  {
   "cell_type": "markdown",
   "metadata": {},
   "source": [
    "train test split"
   ]
  },
  {
   "cell_type": "code",
   "execution_count": null,
   "metadata": {},
   "outputs": [],
   "source": [
    "selected_independent_df = x\n",
    "selected_independent_df"
   ]
  },
  {
   "cell_type": "code",
   "execution_count": null,
   "metadata": {},
   "outputs": [],
   "source": [
    "independent_array = selected_independent_df.to_numpy()\n",
    "independent_array"
   ]
  },
  {
   "cell_type": "code",
   "execution_count": null,
   "metadata": {},
   "outputs": [],
   "source": [
    "selected_dependent_df = y\n",
    "selected_dependent_df"
   ]
  },
  {
   "cell_type": "code",
   "execution_count": null,
   "metadata": {},
   "outputs": [],
   "source": [
    "dependent_array = selected_dependent_df.to_numpy()\n",
    "dependent_array"
   ]
  },
  {
   "cell_type": "code",
   "execution_count": null,
   "metadata": {},
   "outputs": [],
   "source": [
    "x_train, x_test, y_train, y_test = train_test_split(independent_array, dependent_array, test_size=0.2, stratify=y, random_state=42)"
   ]
  },
  {
   "cell_type": "markdown",
   "metadata": {},
   "source": [
    "K Fold Cross Validation"
   ]
  },
  {
   "cell_type": "code",
   "execution_count": null,
   "metadata": {},
   "outputs": [],
   "source": [
    "cv = StratifiedKFold(n_splits=10, shuffle=True, random_state=42)"
   ]
  },
  {
   "cell_type": "markdown",
   "metadata": {},
   "source": [
    "ADDING ATTENTION LAYER TO THE MODEL"
   ]
  },
  {
   "cell_type": "code",
   "execution_count": null,
   "metadata": {},
   "outputs": [],
   "source": [
    "def attention_block(inputs):\n",
    "    input_shape = k.int_shape(inputs)\n",
    "    attention_probs = layers.Dense(input_shape[-1], activation='softmax')(inputs)\n",
    "    attention_mul = layers.multiply([inputs, attention_probs])\n",
    "    return attention_mul"
   ]
  },
  {
   "cell_type": "code",
   "execution_count": null,
   "metadata": {},
   "outputs": [],
   "source": [
    "fold_no = 1\n",
    "train_acc_per_fold = []\n",
    "val_acc_per_fold = []\n",
    "test_acc_per_fold = []"
   ]
  },
  {
   "cell_type": "code",
   "execution_count": null,
   "metadata": {},
   "outputs": [],
   "source": [
    "for train, val in cv.split(x_train, y_train):\n",
    "\n",
    "    print('     ')\n",
    "    print(f'Training for fold {fold_no}: ')\n",
    "\n",
    "    input_layer = Input(shape=(df_dataClass_cleaned.shape[1] - 1, 1))\n",
    "    conv1 = Conv1D(128, kernel_size=1, activation='relu')(input_layer)\n",
    "    # dropout1 = Dropout(0.2)(conv1)\n",
    "    # conv2 = Conv1D(64, kernel_size=1, activation='tanh')(dropout1)\n",
    "    conv2 = Conv1D(64, kernel_size=1, activation='tanh')(conv1)\n",
    "    # dropout2 = Dropout(0.3)(conv2)\n",
    "    # attention_output = attention_block(dropout2)\n",
    "    attention_output = attention_block(conv2)\n",
    "    flatten = Flatten()(attention_output)\n",
    "    dense1 = Dense(64, activation='relu')(flatten)\n",
    "    dropout3 = Dropout(0.4)(dense1)\n",
    "    output = Dense(1, activation='sigmoid')(dropout3)\n",
    "    # output = Dense(1, activation='sigmoid')(dense1)\n",
    "    model = Model(inputs=input_layer, outputs=output)\n",
    "\n",
    "    model.compile(\n",
    "        optimizer='adam',\n",
    "        loss='binary_crossentropy',\n",
    "        metrics=['accuracy']\n",
    "    )\n",
    "\n",
    "    history = model.fit(x_train[train], y_train[train], epochs=32, batch_size=2, validation_data=(x_train[val], y_train[val]))\n",
    "\n",
    "    scores_train = model.evaluate(x_train[train], y_train[train])\n",
    "    train_acc_per_fold.append(scores_train[1] * 100)\n",
    "\n",
    "    scores_val = model.evaluate(x_train[val], y_train[val])\n",
    "    val_acc_per_fold.append(scores_val[1] * 100)\n",
    "\n",
    "    scores_test = model.evaluate(x_test, y_test)\n",
    "    test_acc_per_fold.append(scores_test[1] * 100)\n",
    "\n",
    "    fold_no = fold_no + 1\n",
    "\n"
   ]
  },
  {
   "cell_type": "code",
   "execution_count": null,
   "metadata": {},
   "outputs": [],
   "source": [
    "loss = history.history['loss']\n",
    "val_loss = history.history['val_loss']\n",
    "epochs = range(1, len(loss) + 1)\n",
    "plt.plot(epochs, loss, 'y', label='Training loss')\n",
    "plt.plot(epochs, val_loss, 'r', label='Validation loss')\n",
    "plt.title('Training and Validation loss')\n",
    "plt.xlabel(\"Epochs\")\n",
    "plt.ylabel(\"Loss\")\n",
    "plt.legend()\n",
    "plt.show()"
   ]
  },
  {
   "cell_type": "code",
   "execution_count": null,
   "metadata": {},
   "outputs": [],
   "source": [
    "acc = history.history['accuracy']\n",
    "val_acc = history.history['val_accuracy']\n",
    "plt.plot(epochs, acc, 'y', label='Training acc')\n",
    "plt.plot(epochs, val_acc, 'r', label='Validation acc')\n",
    "plt.title('Training and Validation accuracy')\n",
    "plt.xlabel(\"Epochs\")\n",
    "plt.ylabel(\"Accuracy\")\n",
    "plt.legend()\n",
    "plt.show()"
   ]
  },
  {
   "cell_type": "code",
   "execution_count": null,
   "metadata": {},
   "outputs": [],
   "source": [
    "serial = 1\n",
    "for acc in train_acc_per_fold:\n",
    "    print(f\"{serial}. Training Accuracy with attention layer wihtout FS: \", acc)\n",
    "    serial = serial + 1"
   ]
  },
  {
   "cell_type": "code",
   "execution_count": null,
   "metadata": {},
   "outputs": [],
   "source": [
    "serial = 1\n",
    "for acc in val_acc_per_fold:\n",
    "    print(f\"{serial}. Validation Accuracy with attention layer without FS: \", acc)\n",
    "    serial = serial + 1"
   ]
  },
  {
   "cell_type": "code",
   "execution_count": null,
   "metadata": {},
   "outputs": [],
   "source": [
    "serial = 1\n",
    "for acc in test_acc_per_fold:\n",
    "    print(f\"{serial}. Test Accuracy with attention layer without FS: \", acc)\n",
    "    serial = serial + 1"
   ]
  },
  {
   "cell_type": "code",
   "execution_count": null,
   "metadata": {},
   "outputs": [],
   "source": [
    "print(\"Training accuracy with attention layer without FS: \", np.mean(train_acc_per_fold))"
   ]
  },
  {
   "cell_type": "code",
   "execution_count": null,
   "metadata": {},
   "outputs": [],
   "source": [
    "print(\"Validation accuracy with attention layer without FS: \", np.mean(val_acc_per_fold))"
   ]
  },
  {
   "cell_type": "code",
   "execution_count": null,
   "metadata": {},
   "outputs": [],
   "source": [
    "print(\"Testing accuracy with attention layer without FS: \", np.mean(test_acc_per_fold))"
   ]
  },
  {
   "cell_type": "markdown",
   "metadata": {},
   "source": [
    "drawing the confusion matrix"
   ]
  },
  {
   "cell_type": "code",
   "execution_count": null,
   "metadata": {},
   "outputs": [],
   "source": [
    "y_pred = model.predict(x_test)\n",
    "y_pred_class = (y_pred > 0.5).astype(\"int32\")"
   ]
  },
  {
   "cell_type": "code",
   "execution_count": null,
   "metadata": {},
   "outputs": [],
   "source": [
    "cm = confusion_matrix(y_test, y_pred_class, labels=[0,1])\n",
    "sns.heatmap(cm, cmap='Greens', annot=True)\n"
   ]
  },
  {
   "cell_type": "markdown",
   "metadata": {},
   "source": [
    "Evaluation Matrices"
   ]
  },
  {
   "cell_type": "code",
   "execution_count": null,
   "metadata": {},
   "outputs": [],
   "source": [
    "print(classification_report(y_test, y_pred_class))"
   ]
  },
  {
   "cell_type": "markdown",
   "metadata": {},
   "source": [
    "chi square technique"
   ]
  },
  {
   "cell_type": "code",
   "execution_count": null,
   "metadata": {},
   "outputs": [],
   "source": [
    "chi_score = chi2(x,y)"
   ]
  },
  {
   "cell_type": "code",
   "execution_count": null,
   "metadata": {},
   "outputs": [],
   "source": [
    "chi_values = pd.Series(chi_score[0], index=x.columns)\n",
    "chi_values.sort_values(ascending=False, inplace=True)\n",
    "plt.figure(figsize=(16, 6)) \n",
    "chi_values.plot.bar()"
   ]
  },
  {
   "cell_type": "code",
   "execution_count": null,
   "metadata": {},
   "outputs": [],
   "source": [
    "chi_selector = SelectKBest(chi2, k=25)\n",
    "x_chi_selected = chi_selector.fit_transform(x,y)\n",
    "chi_support = chi_selector.get_support()\n",
    "chi_features_dataClass = x.columns[chi_support]"
   ]
  },
  {
   "cell_type": "code",
   "execution_count": null,
   "metadata": {},
   "outputs": [],
   "source": [
    "print(\"selected features using chi2: \", chi_features_dataClass)"
   ]
  },
  {
   "cell_type": "markdown",
   "metadata": {},
   "source": [
    "correlation technique"
   ]
  },
  {
   "cell_type": "code",
   "execution_count": null,
   "metadata": {},
   "outputs": [],
   "source": [
    "cor_dataClass = df_dataClass_cleaned.corr()\n",
    "cor_dataClass"
   ]
  },
  {
   "cell_type": "code",
   "execution_count": null,
   "metadata": {},
   "outputs": [],
   "source": [
    "target = abs(cor_dataClass['numeric_label'])\n",
    "target = target.sort_values(ascending=False)\n",
    "target"
   ]
  },
  {
   "cell_type": "code",
   "execution_count": null,
   "metadata": {},
   "outputs": [],
   "source": [
    "corr_features_dataClass = target[target > 0.23]\n",
    "corr_features_dataClass"
   ]
  },
  {
   "cell_type": "code",
   "execution_count": null,
   "metadata": {},
   "outputs": [],
   "source": [
    "len(corr_features_dataClass)"
   ]
  },
  {
   "cell_type": "code",
   "execution_count": null,
   "metadata": {},
   "outputs": [],
   "source": [
    "corr_feature_list_dataClass = corr_features_dataClass.index.tolist()\n",
    "corr_feature_list_dataClass.pop(0)\n",
    "corr_feature_list_dataClass"
   ]
  },
  {
   "cell_type": "code",
   "execution_count": null,
   "metadata": {},
   "outputs": [],
   "source": [
    "len(corr_feature_list_dataClass)"
   ]
  },
  {
   "cell_type": "markdown",
   "metadata": {},
   "source": [
    "anova f-test"
   ]
  },
  {
   "cell_type": "code",
   "execution_count": null,
   "metadata": {},
   "outputs": [],
   "source": [
    "fvalue_selector = SelectKBest(f_classif, k=25)\n",
    "x_kbest = fvalue_selector.fit_transform(x,y)\n",
    "x_kbest"
   ]
  },
  {
   "cell_type": "code",
   "execution_count": null,
   "metadata": {},
   "outputs": [],
   "source": [
    "selected_features_anova_mask = fvalue_selector.get_support()\n",
    "selected_features_anova_dataClass = x.columns[selected_features_anova_mask]\n",
    "selected_features_anova_dataClass"
   ]
  },
  {
   "cell_type": "markdown",
   "metadata": {},
   "source": [
    "mutual information gain"
   ]
  },
  {
   "cell_type": "code",
   "execution_count": null,
   "metadata": {},
   "outputs": [],
   "source": [
    "mutual_info = mutual_info_classif(x,y)\n",
    "mutual_info"
   ]
  },
  {
   "cell_type": "code",
   "execution_count": null,
   "metadata": {},
   "outputs": [],
   "source": [
    "mutual_info = pd.Series(mutual_info)\n",
    "mutual_info.index = x.columns\n",
    "mutual_info.sort_values(ascending=False).head(20)"
   ]
  },
  {
   "cell_type": "code",
   "execution_count": null,
   "metadata": {},
   "outputs": [],
   "source": [
    "select_mutual = SelectKBest(mutual_info_classif, k=25)\n",
    "select_mutual.fit(x,y)\n",
    "select_mutual_dataClass = x.columns[select_mutual.get_support()]\n",
    "select_mutual_dataClass"
   ]
  },
  {
   "cell_type": "markdown",
   "metadata": {},
   "source": [
    "union approach"
   ]
  },
  {
   "cell_type": "code",
   "execution_count": null,
   "metadata": {},
   "outputs": [],
   "source": [
    "common_features = list(set(chi_features_dataClass) & set(selected_features_anova_dataClass) & set(select_mutual_dataClass) & set(corr_feature_list_dataClass) )\n",
    "print(\"Common features (Intersection of Chi-square and RFE):\", common_features)"
   ]
  },
  {
   "cell_type": "code",
   "execution_count": null,
   "metadata": {},
   "outputs": [],
   "source": [
    "len(common_features)"
   ]
  },
  {
   "cell_type": "markdown",
   "metadata": {},
   "source": [
    "voting approach"
   ]
  },
  {
   "cell_type": "code",
   "execution_count": null,
   "metadata": {},
   "outputs": [],
   "source": [
    "all_features_dataClass = list(chi_features_dataClass) + list(selected_features_anova_dataClass) + list(select_mutual_dataClass) + list(corr_feature_list_dataClass)\n",
    "voted_features_dataClass = Counter(all_features_dataClass)\n",
    "voted_features_dataClass"
   ]
  },
  {
   "cell_type": "code",
   "execution_count": null,
   "metadata": {},
   "outputs": [],
   "source": [
    "best_features_dataClass = [feature for feature, count in voted_features_dataClass.items() if count >= 3]\n",
    "print(\"Best features through voting:\", best_features_dataClass)"
   ]
  },
  {
   "cell_type": "code",
   "execution_count": null,
   "metadata": {},
   "outputs": [],
   "source": [
    "len(best_features_dataClass)"
   ]
  },
  {
   "cell_type": "markdown",
   "metadata": {},
   "source": [
    "train test split"
   ]
  },
  {
   "cell_type": "code",
   "execution_count": null,
   "metadata": {},
   "outputs": [],
   "source": [
    "selected_independent_df = df_dataClass_cleaned[best_features_dataClass]\n",
    "selected_independent_df"
   ]
  },
  {
   "cell_type": "code",
   "execution_count": null,
   "metadata": {},
   "outputs": [],
   "source": [
    "independent_array = selected_independent_df.to_numpy()\n",
    "independent_array"
   ]
  },
  {
   "cell_type": "code",
   "execution_count": null,
   "metadata": {},
   "outputs": [],
   "source": [
    "selected_dependent_df = df_dataClass_cleaned['numeric_label']\n",
    "selected_dependent_df"
   ]
  },
  {
   "cell_type": "code",
   "execution_count": null,
   "metadata": {},
   "outputs": [],
   "source": [
    "dependent_array = selected_dependent_df.to_numpy()\n",
    "dependent_array"
   ]
  },
  {
   "cell_type": "code",
   "execution_count": null,
   "metadata": {},
   "outputs": [],
   "source": [
    "x_train, x_test, y_train, y_test = train_test_split(independent_array, dependent_array, test_size=0.2, stratify=y, random_state=42)"
   ]
  },
  {
   "cell_type": "markdown",
   "metadata": {},
   "source": [
    "K Fold Cross Validation"
   ]
  },
  {
   "cell_type": "code",
   "execution_count": null,
   "metadata": {},
   "outputs": [],
   "source": [
    "cv = StratifiedKFold(n_splits=10, shuffle=True, random_state=42)"
   ]
  },
  {
   "cell_type": "markdown",
   "metadata": {},
   "source": [
    "Deep Learning Model"
   ]
  },
  {
   "cell_type": "code",
   "execution_count": null,
   "metadata": {},
   "outputs": [],
   "source": [
    "fold_no = 1\n",
    "train_acc_per_fold = []\n",
    "val_acc_per_fold = []\n",
    "test_acc_per_fold = []"
   ]
  },
  {
   "cell_type": "code",
   "execution_count": null,
   "metadata": {},
   "outputs": [],
   "source": [
    "for train, val in cv.split(x_train, y_train):\n",
    "\n",
    "    print('     ')\n",
    "    print(f'Training for fold {fold_no}: ')\n",
    "\n",
    "    model = Sequential([\n",
    "        Conv1D(128, kernel_size=1, activation='relu', input_shape = (len(best_features_dataClass),1)),\n",
    "\n",
    "        # Dropout(0.2),\n",
    "\n",
    "        Conv1D(64, kernel_size=1, activation='tanh'),\n",
    "\n",
    "        # Dropout(0.3),\n",
    "\n",
    "        Flatten(),\n",
    "\n",
    "        Dense(64, activation='relu'),\n",
    "\n",
    "        Dropout(0.4),\n",
    "\n",
    "        Dense(1, activation='sigmoid')    \n",
    "    ])\n",
    "\n",
    "    model.compile(\n",
    "        optimizer='adam',\n",
    "        loss='binary_crossentropy',\n",
    "        metrics=['accuracy']\n",
    "    )\n",
    "\n",
    "    history = model.fit(x_train[train], y_train[train], epochs=32, batch_size=2, validation_data=(x_train[val], y_train[val]))\n",
    "\n",
    "    scores_train = model.evaluate(x_train[train], y_train[train])\n",
    "    train_acc_per_fold.append(scores_train[1] * 100)\n",
    "\n",
    "    scores_val = model.evaluate(x_train[val], y_train[val])\n",
    "    val_acc_per_fold.append(scores_val[1] * 100)\n",
    "\n",
    "    scores_test = model.evaluate(x_test, y_test)\n",
    "    test_acc_per_fold.append(scores_test[1] * 100)\n",
    "\n",
    "    fold_no = fold_no + 1\n",
    "\n"
   ]
  },
  {
   "cell_type": "code",
   "execution_count": null,
   "metadata": {},
   "outputs": [],
   "source": [
    "loss = history.history['loss']\n",
    "val_loss = history.history['val_loss']\n",
    "epochs = range(1, len(loss) + 1)\n",
    "plt.plot(epochs, loss, 'y', label='Training loss')\n",
    "plt.plot(epochs, val_loss, 'r', label='Validation loss')\n",
    "plt.title('Training and Validation loss')\n",
    "plt.xlabel(\"Epochs\")\n",
    "plt.ylabel(\"Loss\")\n",
    "plt.legend()\n",
    "plt.show()"
   ]
  },
  {
   "cell_type": "code",
   "execution_count": null,
   "metadata": {},
   "outputs": [],
   "source": [
    "acc = history.history['accuracy']\n",
    "val_acc = history.history['val_accuracy']\n",
    "plt.plot(epochs, acc, 'y', label='Training acc')\n",
    "plt.plot(epochs, val_acc, 'r', label='Validation acc')\n",
    "plt.title('Training and Validation accuracy')\n",
    "plt.xlabel(\"Epochs\")\n",
    "plt.ylabel(\"Accuracy\")\n",
    "plt.legend()\n",
    "plt.show()"
   ]
  },
  {
   "cell_type": "code",
   "execution_count": null,
   "metadata": {},
   "outputs": [],
   "source": [
    "serial = 1\n",
    "for acc in train_acc_per_fold:\n",
    "    print(f\"{serial}. Training Accuracy: \", acc)\n",
    "    serial = serial + 1"
   ]
  },
  {
   "cell_type": "code",
   "execution_count": null,
   "metadata": {},
   "outputs": [],
   "source": [
    "serial = 1\n",
    "for acc in val_acc_per_fold:\n",
    "    print(f\"{serial}. Validation Accuracy: \", acc)\n",
    "    serial = serial + 1"
   ]
  },
  {
   "cell_type": "code",
   "execution_count": null,
   "metadata": {},
   "outputs": [],
   "source": [
    "serial = 1\n",
    "for acc in test_acc_per_fold:\n",
    "    print(f\"{serial}. Test Accuracy with attention layer: \", acc)\n",
    "    serial = serial + 1"
   ]
  },
  {
   "cell_type": "code",
   "execution_count": null,
   "metadata": {},
   "outputs": [],
   "source": [
    "print(\"Training accuracy: \", np.mean(train_acc_per_fold))"
   ]
  },
  {
   "cell_type": "code",
   "execution_count": null,
   "metadata": {},
   "outputs": [],
   "source": [
    "print(\"Validation accuracy: \", np.mean(val_acc_per_fold))"
   ]
  },
  {
   "cell_type": "code",
   "execution_count": null,
   "metadata": {},
   "outputs": [],
   "source": [
    "print(\"Testing accuracy: \", np.mean(test_acc_per_fold))"
   ]
  },
  {
   "cell_type": "markdown",
   "metadata": {},
   "source": [
    "drawing the confusion matrix"
   ]
  },
  {
   "cell_type": "code",
   "execution_count": null,
   "metadata": {},
   "outputs": [],
   "source": [
    "y_pred = model.predict(x_test)\n",
    "y_pred_class = (y_pred > 0.5).astype(\"int32\")"
   ]
  },
  {
   "cell_type": "code",
   "execution_count": null,
   "metadata": {},
   "outputs": [],
   "source": [
    "cm = confusion_matrix(y_test, y_pred_class, labels=[0,1])\n",
    "sns.heatmap(cm, cmap='Greens', annot=True)\n"
   ]
  },
  {
   "cell_type": "markdown",
   "metadata": {},
   "source": [
    "Evaluation Matrices"
   ]
  },
  {
   "cell_type": "code",
   "execution_count": null,
   "metadata": {},
   "outputs": [],
   "source": [
    "print(classification_report(y_test, y_pred_class))"
   ]
  },
  {
   "cell_type": "markdown",
   "metadata": {},
   "source": [
    "Lime implementation"
   ]
  },
  {
   "cell_type": "code",
   "execution_count": null,
   "metadata": {},
   "outputs": [],
   "source": [
    "output_class_names = ['False', 'True']\n",
    "interpretor = lime_tabular.LimeTabularExplainer(\n",
    "    x_train,\n",
    "    class_names=output_class_names,\n",
    "    feature_names= best_features_dataClass,\n",
    "    mode='classification'\n",
    ")"
   ]
  },
  {
   "cell_type": "code",
   "execution_count": null,
   "metadata": {},
   "outputs": [],
   "source": [
    "prediction_case = 4"
   ]
  },
  {
   "cell_type": "code",
   "execution_count": null,
   "metadata": {},
   "outputs": [],
   "source": [
    "exp = interpretor.explain_instance(\n",
    "    x_test[prediction_case],\n",
    "    model.predict,\n",
    "    num_features=len(best_features_dataClass),\n",
    "    top_labels=2\n",
    ")\n",
    "exp.show_in_notebook(show_table=True)"
   ]
  },
  {
   "cell_type": "code",
   "execution_count": null,
   "metadata": {},
   "outputs": [],
   "source": [
    "y_test[prediction_case]"
   ]
  },
  {
   "cell_type": "markdown",
   "metadata": {},
   "source": [
    "ADDING ATTENTION LAYER TO THE MODEL"
   ]
  },
  {
   "cell_type": "code",
   "execution_count": null,
   "metadata": {},
   "outputs": [],
   "source": [
    "def attention_block(inputs):\n",
    "    input_shape = k.int_shape(inputs)\n",
    "    attention_probs = layers.Dense(input_shape[-1], activation='softmax')(inputs)\n",
    "    attention_mul = layers.multiply([inputs, attention_probs])\n",
    "    return attention_mul"
   ]
  },
  {
   "cell_type": "code",
   "execution_count": null,
   "metadata": {},
   "outputs": [],
   "source": [
    "fold_no = 1\n",
    "train_acc_per_fold = []\n",
    "val_acc_per_fold = []\n",
    "test_acc_per_fold = []"
   ]
  },
  {
   "cell_type": "code",
   "execution_count": null,
   "metadata": {},
   "outputs": [],
   "source": [
    "for train, val in cv.split(x_train, y_train):\n",
    "\n",
    "    print('     ')\n",
    "    print(f'Training for fold {fold_no}: ')\n",
    "\n",
    "    input_layer = Input(shape=(len(best_features_dataClass), 1))\n",
    "    conv1 = Conv1D(128, kernel_size=1, activation='relu')(input_layer)\n",
    "    # dropout1 = Dropout(0.2)(conv1)\n",
    "    # conv2 = Conv1D(64, kernel_size=1, activation='tanh')(dropout1)\n",
    "    conv2 = Conv1D(64, kernel_size=1, activation='tanh')(conv1)\n",
    "    # dropout2 = Dropout(0.3)(conv2)\n",
    "    # attention_output = attention_block(dropout2)\n",
    "    attention_output = attention_block(conv2)\n",
    "    flatten = Flatten()(attention_output)\n",
    "    dense1 = Dense(64, activation='relu')(flatten)\n",
    "    dropout3 = Dropout(0.4)(dense1)\n",
    "    output = Dense(1, activation='sigmoid')(dropout3)\n",
    "    # output = Dense(1, activation='sigmoid')(dense1)\n",
    "    model = Model(inputs=input_layer, outputs=output)\n",
    "\n",
    "    model.compile(\n",
    "        optimizer='adam',\n",
    "        loss='binary_crossentropy',\n",
    "        metrics=['accuracy']\n",
    "    )\n",
    "\n",
    "    history = model.fit(x_train[train], y_train[train], epochs=32, batch_size=2, validation_data=(x_train[val], y_train[val]))\n",
    "\n",
    "    scores_train = model.evaluate(x_train[train], y_train[train])\n",
    "    train_acc_per_fold.append(scores_train[1] * 100)\n",
    "\n",
    "    scores_val = model.evaluate(x_train[val], y_train[val])\n",
    "    val_acc_per_fold.append(scores_val[1] * 100)\n",
    "\n",
    "    scores_test = model.evaluate(x_test, y_test)\n",
    "    test_acc_per_fold.append(scores_test[1] * 100)\n",
    "\n",
    "    fold_no = fold_no + 1\n",
    "\n"
   ]
  },
  {
   "cell_type": "code",
   "execution_count": null,
   "metadata": {},
   "outputs": [],
   "source": [
    "loss = history.history['loss']\n",
    "val_loss = history.history['val_loss']\n",
    "epochs = range(1, len(loss) + 1)\n",
    "plt.plot(epochs, loss, 'y', label='Training loss')\n",
    "plt.plot(epochs, val_loss, 'r', label='Validation loss')\n",
    "plt.title('Training and Validation loss')\n",
    "plt.xlabel(\"Epochs\")\n",
    "plt.ylabel(\"Loss\")\n",
    "plt.legend()\n",
    "plt.show()"
   ]
  },
  {
   "cell_type": "code",
   "execution_count": null,
   "metadata": {},
   "outputs": [],
   "source": [
    "acc = history.history['accuracy']\n",
    "val_acc = history.history['val_accuracy']\n",
    "plt.plot(epochs, acc, 'y', label='Training acc')\n",
    "plt.plot(epochs, val_acc, 'r', label='Validation acc')\n",
    "plt.title('Training and Validation accuracy')\n",
    "plt.xlabel(\"Epochs\")\n",
    "plt.ylabel(\"Accuracy\")\n",
    "plt.legend()\n",
    "plt.show()"
   ]
  },
  {
   "cell_type": "code",
   "execution_count": null,
   "metadata": {},
   "outputs": [],
   "source": [
    "serial = 1\n",
    "for acc in train_acc_per_fold:\n",
    "    print(f\"{serial}. Training Accuracy with attention layer: \", acc)\n",
    "    serial = serial + 1"
   ]
  },
  {
   "cell_type": "code",
   "execution_count": null,
   "metadata": {},
   "outputs": [],
   "source": [
    "serial = 1\n",
    "for acc in val_acc_per_fold:\n",
    "    print(f\"{serial}. Validation Accuracy with attention layer: \", acc)\n",
    "    serial = serial + 1"
   ]
  },
  {
   "cell_type": "code",
   "execution_count": null,
   "metadata": {},
   "outputs": [],
   "source": [
    "serial = 1\n",
    "for acc in test_acc_per_fold:\n",
    "    print(f\"{serial}. Test Accuracy with attention layer: \", acc)\n",
    "    serial = serial + 1"
   ]
  },
  {
   "cell_type": "code",
   "execution_count": null,
   "metadata": {},
   "outputs": [],
   "source": [
    "print(\"Training accuracy with attention layer: \", np.mean(train_acc_per_fold))"
   ]
  },
  {
   "cell_type": "code",
   "execution_count": null,
   "metadata": {},
   "outputs": [],
   "source": [
    "print(\"Validation accuracy with attention layer: \", np.mean(val_acc_per_fold))"
   ]
  },
  {
   "cell_type": "code",
   "execution_count": null,
   "metadata": {},
   "outputs": [],
   "source": [
    "print(\"Testing accuracy with attention layer: \", np.mean(test_acc_per_fold))"
   ]
  },
  {
   "cell_type": "markdown",
   "metadata": {},
   "source": [
    "drawing the confusion matrix"
   ]
  },
  {
   "cell_type": "code",
   "execution_count": null,
   "metadata": {},
   "outputs": [],
   "source": [
    "y_pred = model.predict(x_test)\n",
    "y_pred_class = (y_pred > 0.5).astype(\"int32\")"
   ]
  },
  {
   "cell_type": "code",
   "execution_count": null,
   "metadata": {},
   "outputs": [],
   "source": [
    "cm = confusion_matrix(y_test, y_pred_class, labels=[0,1])\n",
    "sns.heatmap(cm, cmap='Greens', annot=True)\n"
   ]
  },
  {
   "cell_type": "markdown",
   "metadata": {},
   "source": [
    "Evaluation Matrices"
   ]
  },
  {
   "cell_type": "code",
   "execution_count": null,
   "metadata": {},
   "outputs": [],
   "source": [
    "print(classification_report(y_test, y_pred_class))"
   ]
  },
  {
   "cell_type": "markdown",
   "metadata": {},
   "source": [
    "Lime Implementation For Attention Layer Model"
   ]
  },
  {
   "cell_type": "code",
   "execution_count": null,
   "metadata": {},
   "outputs": [],
   "source": [
    "output_class_names = ['False', 'True']\n",
    "interpretor = lime_tabular.LimeTabularExplainer(\n",
    "    x_train,\n",
    "    class_names=output_class_names,\n",
    "    feature_names= best_features_dataClass,\n",
    "    mode='classification'\n",
    ")"
   ]
  },
  {
   "cell_type": "code",
   "execution_count": null,
   "metadata": {},
   "outputs": [],
   "source": [
    "prediction_case = 4"
   ]
  },
  {
   "cell_type": "code",
   "execution_count": null,
   "metadata": {},
   "outputs": [],
   "source": [
    "exp = interpretor.explain_instance(\n",
    "    x_test[prediction_case],\n",
    "    model.predict,\n",
    "    num_features=len(best_features_dataClass),\n",
    "    top_labels=2\n",
    ")\n",
    "exp.show_in_notebook(show_table=True)"
   ]
  },
  {
   "cell_type": "code",
   "execution_count": null,
   "metadata": {},
   "outputs": [],
   "source": [
    "y_test[prediction_case]"
   ]
  },
  {
   "cell_type": "code",
   "execution_count": null,
   "metadata": {},
   "outputs": [],
   "source": [
    "from keras.utils import plot_model"
   ]
  },
  {
   "cell_type": "code",
   "execution_count": null,
   "metadata": {},
   "outputs": [],
   "source": [
    "plot_model(model,to_file='my_model.png')"
   ]
  }
 ],
 "metadata": {
  "language_info": {
   "name": "python"
  }
 },
 "nbformat": 4,
 "nbformat_minor": 2
}
